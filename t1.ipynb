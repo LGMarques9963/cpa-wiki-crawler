{
 "cells": [
  {
   "cell_type": "markdown",
   "metadata": {},
   "source": [
    "### Imports utilizados"
   ]
  },
  {
   "cell_type": "code",
   "execution_count": 10,
   "metadata": {},
   "outputs": [],
   "source": [
    "import requests\n",
    "import time\n",
    "import random\n",
    "import re\n",
    "import os\n",
    "from tqdm import tqdm as tqdm\n",
    "from bs4 import BeautifulSoup"
   ]
  },
  {
   "cell_type": "markdown",
   "metadata": {},
   "source": [
    "### Parsing da Página Principal da Wikipedia"
   ]
  },
  {
   "cell_type": "code",
   "execution_count": null,
   "metadata": {},
   "outputs": [],
   "source": [
    "a = requests.get('https://pt.wikipedia.org/wiki/Wikip%C3%A9dia:P%C3%A1gina_principal')\n",
    "soup = BeautifulSoup(a.text, 'html.parser')"
   ]
  },
  {
   "cell_type": "markdown",
   "metadata": {},
   "source": [
    "Para cada link na seção \"main\" da página principal, verifica se o link representa um verbete, caso positivo, adiciona à um Set para evitar duplicatas"
   ]
  },
  {
   "cell_type": "code",
   "execution_count": null,
   "metadata": {},
   "outputs": [
    {
     "name": "stdout",
     "output_type": "stream",
     "text": [
      "112\n"
     ]
    }
   ],
   "source": [
    "links = soup.main.find_all('a')\n",
    "all_verbets = set()\n",
    "for link in links:\n",
    "    if link.has_attr('href') and re.match(r'/wiki/.*', link['href']) and not re.match(r'/wiki/.*:.*', link['href']):\n",
    "            all_verbets.add(link['href'])"
   ]
  },
  {
   "cell_type": "markdown",
   "metadata": {},
   "source": [
    "Escolhe aleatoriamente um verbet da conjunto obtido da página principal, e faz o mesmo processamento. O loop é executado até que o conjunto de verbetes tenha 5000 verbetes."
   ]
  },
  {
   "cell_type": "code",
   "execution_count": null,
   "metadata": {},
   "outputs": [
    {
     "name": "stdout",
     "output_type": "stream",
     "text": [
      "{'/wiki/Matilda_Joslyn_Gage', '/wiki/Odontomachus', '/wiki/Mortes_em_2025', '/wiki/Golpe_de_Estado_na_Argentina_em_1976', '/wiki/Formiga', '/wiki/Carlos_Lacerda', '/wiki/%C3%93scar_Romero', '/wiki/Casuar', '/wiki/Guerra_Suja_na_Argentina', '/wiki/1947', '/wiki/Bebida_alco%C3%B3lica', '/wiki/Elei%C3%A7%C3%B5es_legislativas_portuguesas_de_2025', '/wiki/Massa_corporal', '/wiki/Estado_de_guerra', '/wiki/Dia_Internacional_do_Direito_%C3%A0_Verdade_sobre_as_Viola%C3%A7%C3%B5es_dos_Direitos_Humanos_e_pela_Dignidade_das_V%C3%ADtimas', '/wiki/Conte%C3%BAdo_livre', '/wiki/Tratado_de_paz', '/wiki/Aeroporto_de_Lukla', '/wiki/1917', '/wiki/Guerra_Israel-Hamas', '/wiki/Lu%C3%ADs_Montenegro', '/wiki/Eugene_Shoemaker', '/wiki/Padre_C%C3%ADcero', '/wiki/Tonelada', '/wiki/1826', '/wiki/Wlamir_Marques', '/wiki/Dia_Mundial_da_Tuberculose', '/wiki/Processo_de_Reorganiza%C3%A7%C3%A3o_Nacional', '/wiki/Esp%C3%A9cime', '/wiki/L%C3%ADngua_portuguesa', '/wiki/2016', '/wiki/Filiz_Ak%C4%B1n', '/wiki/Fic%C3%A7%C3%A3o_cient%C3%ADfica', '/wiki/1834', '/wiki/24_de_mar%C3%A7o', '/wiki/Comprimento', '/wiki/Mark_Carney', '/wiki/1905', '/wiki/Wiki', '/wiki/Inc%C3%AAndio_em_boate_de_Ko%C4%8Dani', '/wiki/1603', '/wiki/For%C3%A7as_Armadas_da_Argentina', '/wiki/Primeira_Guerra_Mundial', '/wiki/Predador', '/wiki/Am%C3%A9rica_do_Norte', '/wiki/Cl%C3%A1udio_Lembo', '/wiki/Justin_Trudeau', '/wiki/Licen%C3%A7a_livre', '/wiki/Guerra_da_Coreia', '/wiki/G%C3%AAnero_(biologia)', '/wiki/Odorico_Paragua%C3%A7u', '/wiki/Cr%C3%A2nio', '/wiki/1980', '/wiki/Xerpas', '/wiki/J%C3%BAlio_Verne', '/wiki/Portugal', '/wiki/1896', '/wiki/1993', '/wiki/1533', '/wiki/George_Foreman', '/wiki/1828', '/wiki/Enciclop%C3%A9dia', '/wiki/Barnum_Brown', '/wiki/Ko%C4%8Dani', '/wiki/Cronologia_da_invas%C3%A3o_da_Ucr%C3%A2nia_pela_R%C3%BAssia_(2022%E2%80%93presente)', '/wiki/Cauda', '/wiki/Presidente_da_Argentina', '/wiki/David_H._Levy', '/wiki/Suic%C3%ADdio_do_piloto', '/wiki/XXIV_Governo_Constitucional_de_Portugal', '/wiki/Isabel_I_de_Inglaterra', '/wiki/Mar%C3%ADa_Estela_Mart%C3%ADnez_de_Per%C3%B3n', '/wiki/1844', '/wiki/Invas%C3%A3o_da_Ucr%C3%A2nia_pela_R%C3%BAssia_(2022%E2%80%93presente)', '/wiki/Kirsty_Coventry', '/wiki/Latim', '/wiki/Romance_de_aventura', '/wiki/Guerra_Civil_no_Sud%C3%A3o_(2023%E2%80%93presente)', '/wiki/Metro', '/wiki/Hol%C3%B3tipo', '/wiki/1976', '/wiki/1898', '/wiki/Presidente_do_Comit%C3%AA_Ol%C3%ADmpico_Internacional', '/wiki/Wikimedia', '/wiki/Primeiro-ministro_do_Canad%C3%A1', '/wiki/Johan_Cruijff', '/wiki/Herb%C3%ADvoro', '/wiki/Cometa_Shoemaker-Levy_9', '/wiki/Canad%C3%A1', '/wiki/Edmund_Hillary', '/wiki/Maced%C3%B4nia_do_Norte', '/wiki/Eddie_Jordan', '/wiki/Dinossauro', '/wiki/B%C3%ADpede', '/wiki/Voo_Germanwings_9525', '/wiki/Marinha_mercante', '/wiki/Wikip%C3%A9dia', '/wiki/1934', '/wiki/RMS_Olympic', '/wiki/Mand%C3%ADbula', '/wiki/MediaWiki', '/wiki/G%C3%A9nero_(biologia)', '/wiki/Cret%C3%A1ceo', '/wiki/Peyton_Manning', '/wiki/Carolyn_Shoemaker', '/wiki/Armist%C3%ADcio', '/wiki/Alpes', '/wiki/Mia_Love', '/wiki/William_Morris', '/wiki/Wikimedia_Foundation', '/wiki/Corythosaurus', '/wiki/2015'}\n",
      "/wiki/L%C3%ADngua_portuguesa\n"
     ]
    }
   ],
   "source": [
    "while(len(all_verbets) < 500):\n",
    "    verbet = random.choice(list(all_verbets))\n",
    "    a = requests.get('https://pt.wikipedia.org' + verbet)\n",
    "    soup = BeautifulSoup(a.text, 'html.parser')\n",
    "    links = soup.find_all('a')\n",
    "    for link in links:\n",
    "        if link.has_attr('href') and re.match(r'/wiki/.*', link['href']) and not re.match(r'/wiki/.*:.*', link['href']):\n",
    "            all_verbets.add(link['href'])\n",
    "    time.sleep(random.randint(1,2))"
   ]
  },
  {
   "cell_type": "markdown",
   "metadata": {},
   "source": [
    "Cria o diretório para armazenar os verbetes, percorre todo o conjunto e salva o HTML"
   ]
  },
  {
   "cell_type": "code",
   "execution_count": 12,
   "metadata": {},
   "outputs": [
    {
     "name": "stderr",
     "output_type": "stream",
     "text": [
      "  1%|▏         | 12/820 [00:21<23:54,  1.78s/it]\n"
     ]
    },
    {
     "ename": "KeyboardInterrupt",
     "evalue": "",
     "output_type": "error",
     "traceback": [
      "\u001b[0;31m---------------------------------------------------------------------------\u001b[0m",
      "\u001b[0;31mKeyboardInterrupt\u001b[0m                         Traceback (most recent call last)",
      "Cell \u001b[0;32mIn[12], line 7\u001b[0m\n\u001b[1;32m      5\u001b[0m \u001b[38;5;28;01mwith\u001b[39;00m \u001b[38;5;28mopen\u001b[39m(\u001b[38;5;124mf\u001b[39m\u001b[38;5;124m'\u001b[39m\u001b[38;5;124mverbetes/\u001b[39m\u001b[38;5;132;01m{\u001b[39;00mtitulo\u001b[38;5;132;01m}\u001b[39;00m\u001b[38;5;124m.html\u001b[39m\u001b[38;5;124m'\u001b[39m, \u001b[38;5;124m'\u001b[39m\u001b[38;5;124mw\u001b[39m\u001b[38;5;124m'\u001b[39m) \u001b[38;5;28;01mas\u001b[39;00m f:\n\u001b[1;32m      6\u001b[0m     f\u001b[38;5;241m.\u001b[39mwrite(soup\u001b[38;5;241m.\u001b[39mprettify())\n\u001b[0;32m----> 7\u001b[0m time\u001b[38;5;241m.\u001b[39msleep(random\u001b[38;5;241m.\u001b[39mrandint(\u001b[38;5;241m1\u001b[39m,\u001b[38;5;241m2\u001b[39m))\n",
      "\u001b[0;31mKeyboardInterrupt\u001b[0m: "
     ]
    }
   ],
   "source": [
    "os.makedirs('verbetes', exist_ok=True)\n",
    "for verbet in tqdm(all_verbets):\n",
    "    titulo = verbet.split('/')[-1]\n",
    "    soup = BeautifulSoup(a.text, 'html.parser')\n",
    "    with open(f'verbetes/{titulo}.html', 'w') as f:\n",
    "        f.write(soup.prettify())\n",
    "    time.sleep(random.randint(1,2))"
   ]
  }
 ],
 "metadata": {
  "kernelspec": {
   "display_name": "ambiente-cpa",
   "language": "python",
   "name": "python3"
  },
  "language_info": {
   "codemirror_mode": {
    "name": "ipython",
    "version": 3
   },
   "file_extension": ".py",
   "mimetype": "text/x-python",
   "name": "python",
   "nbconvert_exporter": "python",
   "pygments_lexer": "ipython3",
   "version": "3.12.9"
  }
 },
 "nbformat": 4,
 "nbformat_minor": 2
}
