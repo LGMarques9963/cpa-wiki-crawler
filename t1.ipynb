{
 "cells": [
  {
   "cell_type": "markdown",
   "metadata": {},
   "source": [
    "### Imports utilizados"
   ]
  },
  {
   "cell_type": "code",
   "execution_count": 2,
   "metadata": {},
   "outputs": [],
   "source": [
    "import requests\n",
    "import time\n",
    "import random\n",
    "import re\n",
    "import os\n",
    "from tqdm import tqdm as tqdm\n",
    "from bs4 import BeautifulSoup"
   ]
  },
  {
   "cell_type": "markdown",
   "metadata": {},
   "source": [
    "### Parsing da Página Principal da Wikipedia"
   ]
  },
  {
   "cell_type": "code",
   "execution_count": 4,
   "metadata": {},
   "outputs": [],
   "source": [
    "a = requests.get('https://pt.wikipedia.org/wiki/Wikip%C3%A9dia:P%C3%A1gina_principal')\n",
    "soup = BeautifulSoup(a.text, 'html.parser')"
   ]
  },
  {
   "cell_type": "markdown",
   "metadata": {},
   "source": [
    "Para cada link na seção \"main\" da página principal, verifica se o link representa um verbete, caso positivo, adiciona à um Set para evitar duplicatas"
   ]
  },
  {
   "cell_type": "code",
   "execution_count": 5,
   "metadata": {},
   "outputs": [],
   "source": [
    "links = soup.main.find_all('a')\n",
    "all_verbets = set()\n",
    "for link in links:\n",
    "    if link.has_attr('href') and re.match(r'/wiki/.*', link['href']) and not re.match(r'/wiki/.*:.*', link['href']):\n",
    "            all_verbets.add(link['href'])"
   ]
  },
  {
   "cell_type": "markdown",
   "metadata": {},
   "source": [
    "Escolhe aleatoriamente um verbet da conjunto obtido da página principal, e faz o mesmo processamento. O loop é executado até que o conjunto de verbetes tenha 5000 verbetes."
   ]
  },
  {
   "cell_type": "code",
   "execution_count": 6,
   "metadata": {},
   "outputs": [],
   "source": [
    "while(len(all_verbets) < 500):\n",
    "    verbet = random.choice(list(all_verbets))\n",
    "    a = requests.get('https://pt.wikipedia.org' + verbet)\n",
    "    soup = BeautifulSoup(a.text, 'html.parser')\n",
    "    links = soup.find_all('a')\n",
    "    for link in links:\n",
    "        if link.has_attr('href') and re.match(r'/wiki/.*', link['href']) and not re.match(r'/wiki/.*:.*', link['href']):\n",
    "            all_verbets.add(link['href'])\n",
    "    time.sleep(random.randint(1,2))"
   ]
  },
  {
   "cell_type": "markdown",
   "metadata": {},
   "source": [
    "Cria o diretório para armazenar os verbetes, percorre todo o conjunto e salva o HTML"
   ]
  },
  {
   "cell_type": "code",
   "execution_count": 7,
   "metadata": {},
   "outputs": [
    {
     "name": "stderr",
     "output_type": "stream",
     "text": [
      "  0%|          | 2/1172 [00:03<37:38,  1.93s/it]\n"
     ]
    },
    {
     "ename": "KeyboardInterrupt",
     "evalue": "",
     "output_type": "error",
     "traceback": [
      "\u001b[0;31m---------------------------------------------------------------------------\u001b[0m",
      "\u001b[0;31mKeyboardInterrupt\u001b[0m                         Traceback (most recent call last)",
      "Cell \u001b[0;32mIn[7], line 7\u001b[0m\n\u001b[1;32m      5\u001b[0m \u001b[38;5;28;01mwith\u001b[39;00m \u001b[38;5;28mopen\u001b[39m(\u001b[38;5;124mf\u001b[39m\u001b[38;5;124m'\u001b[39m\u001b[38;5;124mverbetes/\u001b[39m\u001b[38;5;132;01m{\u001b[39;00mtitulo\u001b[38;5;132;01m}\u001b[39;00m\u001b[38;5;124m.html\u001b[39m\u001b[38;5;124m'\u001b[39m, \u001b[38;5;124m'\u001b[39m\u001b[38;5;124mw\u001b[39m\u001b[38;5;124m'\u001b[39m) \u001b[38;5;28;01mas\u001b[39;00m f:\n\u001b[1;32m      6\u001b[0m     f\u001b[38;5;241m.\u001b[39mwrite(soup\u001b[38;5;241m.\u001b[39mprettify())\n\u001b[0;32m----> 7\u001b[0m time\u001b[38;5;241m.\u001b[39msleep(random\u001b[38;5;241m.\u001b[39mrandint(\u001b[38;5;241m1\u001b[39m,\u001b[38;5;241m2\u001b[39m))\n",
      "\u001b[0;31mKeyboardInterrupt\u001b[0m: "
     ]
    }
   ],
   "source": [
    "os.makedirs('verbetes', exist_ok=True)\n",
    "for verbet in tqdm(all_verbets):\n",
    "    titulo = verbet.split('/')[-1]\n",
    "    soup = BeautifulSoup(a.text, 'html.parser')\n",
    "    with open(f'verbetes/{titulo}.html', 'w') as f:\n",
    "        f.write(soup.prettify())\n",
    "    time.sleep(random.randint(1,2))"
   ]
  },
  {
   "cell_type": "code",
   "execution_count": null,
   "metadata": {},
   "outputs": [
    {
     "name": "stdout",
     "output_type": "stream",
     "text": [
      "[<td scope=\"row\" style=\"vertical-align: top; text-align: left; display:block; font-weight:bold;\">Reinado\n",
      "</td>, <td style=\"vertical-align: top; text-align: left;\"><span style=\"white-space:nowrap;\"><a href=\"/wiki/336_a.C.\" title=\"336 a.C.\">336 a.C.</a></span> - <span style=\"white-space:nowrap;\"><a href=\"/wiki/323_a.C.\" title=\"323 a.C.\">323 a.C.</a></span>\n",
      "</td>]\n",
      "[<td scope=\"row\" style=\"vertical-align: top; text-align: left; display:block; font-weight:bold;\">Antecessor(a)\n",
      "</td>, <td style=\"vertical-align: top; text-align: left;\"><a href=\"/wiki/Filipe_II_da_Maced%C3%B3nia\" title=\"Filipe II da Macedónia\">Filipe II</a>\n",
      "</td>]\n",
      "[<td scope=\"row\" style=\"vertical-align: top; text-align: left; display:block; font-weight:bold;\">Sucessor(a)\n",
      "</td>, <td style=\"vertical-align: top; text-align: left;\"><a href=\"/wiki/Filipe_III_da_Maced%C3%B3nia\" title=\"Filipe III da Macedónia\">Filipe III</a><br/><a href=\"/wiki/Alexandre_IV_da_Maced%C3%B3nia\" title=\"Alexandre IV da Macedónia\">Alexandre IV</a>\n",
      "</td>]\n",
      "[<td scope=\"row\" style=\"vertical-align: top; text-align: left; display:block; font-weight:bold;\">Reinado\n",
      "</td>, <td style=\"vertical-align: top; text-align: left;\"><span style=\"white-space:nowrap;\"><a href=\"/wiki/332_a.C.\" title=\"332 a.C.\">332 a.C.</a></span> - <span style=\"white-space:nowrap;\"><a href=\"/wiki/323_a.C.\" title=\"323 a.C.\">323 a.C.</a></span>\n",
      "</td>]\n",
      "[<td scope=\"row\" style=\"vertical-align: top; text-align: left; display:block; font-weight:bold;\">Predecessor(a)\n",
      "</td>, <td style=\"vertical-align: top; text-align: left;\"><a href=\"/wiki/Dario_III\" title=\"Dario III\">Dario III</a>\n",
      "</td>]\n",
      "[<td scope=\"row\" style=\"vertical-align: top; text-align: left; display:block; font-weight:bold;\">Sucessor(a)\n",
      "</td>, <td style=\"vertical-align: top; text-align: left;\">Filipe III<br/>Alexandre IV\n",
      "</td>]\n",
      "[<td scope=\"row\" style=\"vertical-align: top; text-align: left; display:block; font-weight:bold;\">Reinado\n",
      "</td>, <td style=\"vertical-align: top; text-align: left;\"><span style=\"white-space:nowrap;\"><a href=\"/wiki/330_a.C.\" title=\"330 a.C.\">330 a.C.</a></span> - <span style=\"white-space:nowrap;\"><a href=\"/wiki/323_a.C.\" title=\"323 a.C.\">323 a.C.</a></span>\n",
      "</td>]\n",
      "[<td scope=\"row\" style=\"vertical-align: top; text-align: left; display:block; font-weight:bold;\">Predecessor(a)\n",
      "</td>, <td style=\"vertical-align: top; text-align: left;\"><a href=\"/wiki/Dario_III\" title=\"Dario III\">Dario III</a>\n",
      "</td>]\n",
      "[<td scope=\"row\" style=\"vertical-align: top; text-align: left; display:block; font-weight:bold;\">Sucessor(a)\n",
      "</td>, <td style=\"vertical-align: top; text-align: left;\">Filipe III<br/>Alexandre IV\n",
      "</td>]\n",
      "[<td scope=\"row\" style=\"vertical-align: top; text-align: left; display:block; font-weight:bold;\">Nascimento\n",
      "</td>, <td style=\"vertical-align: top; text-align: left;\"><a href=\"/wiki/20_de_julho#Nascimentos\" title=\"20 de julho\">20 de julho</a> de <a href=\"/wiki/356_a.C.\" title=\"356 a.C.\">356 a.C.</a><br/><a href=\"/wiki/Pela_(Maced%C3%B4nia)\" title=\"Pela (Macedônia)\">Pela</a>, <a href=\"/wiki/Maced%C3%B3nia_Antiga\" title=\"Macedónia Antiga\">Macedônia</a>\n",
      "</td>]\n",
      "[<td scope=\"row\" style=\"vertical-align: top; text-align: left; display:block; font-weight:bold;\">Morte\n",
      "</td>, <td style=\"vertical-align: top; text-align: left;\"><a href=\"/wiki/10_de_junho\" title=\"10 de junho\">10 de junho</a> de <a href=\"/wiki/323_a.C.\" title=\"323 a.C.\">323 a.C.</a> (32 anos)<br/><a class=\"mw-redirect\" href=\"/wiki/Babil%C3%B4nia_(cidade)\" title=\"Babilônia (cidade)\">Babilônia</a>\n",
      "</td>]\n",
      "[<td scope=\"row\" style=\"vertical-align: top; text-align: left; display:block; font-weight:bold;\">Cônjuge\n",
      "</td>, <td style=\"vertical-align: top; text-align: left;\"><a href=\"/wiki/Roxana\" title=\"Roxana\">Roxana de Báctria</a><br/><a href=\"/wiki/Estatira_II\" title=\"Estatira II\">Estatira II</a> da <a href=\"/wiki/Imp%C3%A9rio_Aquem%C3%AAnida\" title=\"Império Aquemênida\">Pérsia</a><br/><a href=\"/wiki/Paris%C3%A1tide_II\" title=\"Parisátide II\">Parisátide da Pérsia</a>\n",
      "</td>]\n",
      "[<td scope=\"row\" style=\"vertical-align: top; text-align: left; display:block; font-weight:bold;\">Descendência\n",
      "</td>, <td style=\"vertical-align: top; text-align: left; display:block; width:274%; padding-left:1em\"><a href=\"/wiki/Alexandre_IV_da_Maced%C3%B3nia\" title=\"Alexandre IV da Macedónia\">Alexandre IV</a>\n",
      "</td>]\n",
      "[<td scope=\"row\" style=\"vertical-align: top; text-align: left; display:block; font-weight:bold;\">Dinastia\n",
      "</td>, <td style=\"vertical-align: top; text-align: left;\"><a href=\"/wiki/Dinastia_arg%C3%A9ada\" title=\"Dinastia argéada\">Argéada</a>\n",
      "</td>]\n",
      "[<td scope=\"row\" style=\"vertical-align: top; text-align: left; display:block; font-weight:bold;\">Pai\n",
      "</td>, <td style=\"vertical-align: top; text-align: left;\"><a href=\"/wiki/Filipe_II_da_Maced%C3%B3nia\" title=\"Filipe II da Macedónia\">Filipe II</a>\n",
      "</td>]\n",
      "[<td scope=\"row\" style=\"vertical-align: top; text-align: left; display:block; font-weight:bold;\">Mãe\n",
      "</td>, <td style=\"vertical-align: top; text-align: left;\"><a href=\"/wiki/Ol%C3%ADmpia_do_Epiro\" title=\"Olímpia do Epiro\">Olímpia do Epiro</a>\n",
      "</td>]\n",
      "[<td scope=\"row\" style=\"vertical-align: top; text-align: left; display:block; font-weight:bold;\">Religião\n",
      "</td>, <td style=\"vertical-align: top; text-align: left;\"><a class=\"mw-redirect\" href=\"/wiki/Polite%C3%ADsmo_grego\" title=\"Politeísmo grego\">Politeísmo grego</a>\n",
      "</td>]\n",
      "[<td rowspan=\"2\" style=\"padding: 4px; border:1px solid gray; width: 30%;text-align: center;\">Precedido por:<br/><b><a href=\"/wiki/Dario_III\" title=\"Dario III\">Dario III</a></b>\n",
      "</td>, <td style=\"padding: 4px; border:1px solid gray; width: 40%;text-align: center;\"><b><a class=\"mw-redirect\" href=\"/wiki/X%C3%A1_aquem%C3%AAnida\" title=\"Xá aquemênida\">xá aquemênida</a></b><br/>\n",
      "</td>]\n",
      "[<td class=\"navbox-list navbox-odd\" style=\"text-align:left;border-left-width:2px;border-left-style:solid;width:100%;padding:0px\"><div style=\"padding:0em 0.25em\">\n",
      "<ul><li><a class=\"mw-redirect\" href=\"/wiki/Idade_da_Pedra_da_Gr%C3%A9cia\" title=\"Idade da Pedra da Grécia\">Idade da pedra</a></li>\n",
      "<li><a href=\"/wiki/Civiliza%C3%A7%C3%A3o_egeia\" title=\"Civilização egeia\">Idade do Bronze</a>\n",
      "<ul><li><a href=\"/wiki/Civiliza%C3%A7%C3%A3o_Hel%C3%A1dica\" title=\"Civilização Heládica\">Civilização Heládica</a></li>\n",
      "<li><a class=\"mw-redirect\" href=\"/wiki/Civiliza%C3%A7%C3%A3o_Cicl%C3%A1dica\" title=\"Civilização Cicládica\">Civilização Cicládica</a></li>\n",
      "<li><a href=\"/wiki/Civiliza%C3%A7%C3%A3o_Minoica\" title=\"Civilização Minoica\">Civilização Minoica</a></li>\n",
      "<li><a class=\"mw-redirect\" href=\"/wiki/Civiliza%C3%A7%C3%A3o_Mic%C3%AAnica\" title=\"Civilização Micênica\">Civilização Micênica</a></li></ul></li>\n",
      "<li><a href=\"/wiki/Per%C3%ADodo_hom%C3%A9rico\" title=\"Período homérico\">Idade das Trevas</a></li>\n",
      "<li><a href=\"/wiki/Per%C3%ADodo_Arcaico\" title=\"Período Arcaico\">Período Arcaico</a></li>\n",
      "<li><a href=\"/wiki/Gr%C3%A9cia_Cl%C3%A1ssica\" title=\"Grécia Clássica\">Período Clássico</a></li>\n",
      "<li><a href=\"/wiki/Per%C3%ADodo_helen%C3%ADstico\" title=\"Período helenístico\">Período helenístico</a></li>\n",
      "<li><a href=\"/wiki/Gr%C3%A9cia_romana\" title=\"Grécia romana\">Grécia romana</a></li></ul>\n",
      "</div></td>, <td class=\"navbox-image\" rowspan=\"8\" style=\"width:1px;padding:0px 0px 0px 2px\"><div><figure class=\"mw-halign-right\" typeof=\"mw:File\"><a href=\"/wiki/Agrigento\" title=\"Agrigento\"><img class=\"mw-file-element\" data-file-height=\"3872\" data-file-width=\"2592\" decoding=\"async\" height=\"149\" src=\"//upload.wikimedia.org/wikipedia/commons/thumb/7/7c/Agrigento_-_Valle_dei_templi_-_panoramio.jpg/100px-Agrigento_-_Valle_dei_templi_-_panoramio.jpg\" srcset=\"//upload.wikimedia.org/wikipedia/commons/thumb/7/7c/Agrigento_-_Valle_dei_templi_-_panoramio.jpg/150px-Agrigento_-_Valle_dei_templi_-_panoramio.jpg 1.5x, //upload.wikimedia.org/wikipedia/commons/thumb/7/7c/Agrigento_-_Valle_dei_templi_-_panoramio.jpg/200px-Agrigento_-_Valle_dei_templi_-_panoramio.jpg 2x\" width=\"100\"/></a><figcaption></figcaption></figure><br/><br/><figure class=\"mw-halign-right\" typeof=\"mw:File\"><a href=\"/wiki/Menandro\" title=\"Menandro\"><img class=\"mw-file-element\" data-file-height=\"4592\" data-file-width=\"3056\" decoding=\"async\" height=\"150\" src=\"//upload.wikimedia.org/wikipedia/commons/thumb/6/66/Statue_Menander_Dionysus_Theatre_Athens_Greece.jpg/100px-Statue_Menander_Dionysus_Theatre_Athens_Greece.jpg\" srcset=\"//upload.wikimedia.org/wikipedia/commons/thumb/6/66/Statue_Menander_Dionysus_Theatre_Athens_Greece.jpg/150px-Statue_Menander_Dionysus_Theatre_Athens_Greece.jpg 1.5x, //upload.wikimedia.org/wikipedia/commons/thumb/6/66/Statue_Menander_Dionysus_Theatre_Athens_Greece.jpg/200px-Statue_Menander_Dionysus_Theatre_Athens_Greece.jpg 2x\" width=\"100\"/></a><figcaption></figcaption></figure></div></td>]\n"
     ]
    }
   ],
   "source": [
    "e = requests.get(\"https://pt.wikipedia.org/wiki/Alexandre,_o_Grande\")\n",
    "soup = BeautifulSoup(e.text, 'html.parser') \n",
    "tables = soup.findAll('table')\n",
    "infobox = \"\"\n",
    "for table in tables:\n",
    "    if \"infobox\" in table[\"class\"] or \"infobox_v2\" in table[\"class\"]:\n",
    "        infobox = table\n",
    "        break\n",
    "\n",
    "chava = {}\n",
    "\n",
    "titulo = infobox.findAll(\"th\")[0]\n",
    "for tr in soup.findAll('tr'):\n",
    "    if len(tr.findAll(\"td\")) == 2:\n",
    "        messi = tr.findAll(\"td\")\n",
    "        chava[messi[0]] = messi[1]"
   ]
  }
 ],
 "metadata": {
  "kernelspec": {
   "display_name": "ambiente-cpa",
   "language": "python",
   "name": "python3"
  },
  "language_info": {
   "codemirror_mode": {
    "name": "ipython",
    "version": 3
   },
   "file_extension": ".py",
   "mimetype": "text/x-python",
   "name": "python",
   "nbconvert_exporter": "python",
   "pygments_lexer": "ipython3",
   "version": "3.12.9"
  }
 },
 "nbformat": 4,
 "nbformat_minor": 2
}
