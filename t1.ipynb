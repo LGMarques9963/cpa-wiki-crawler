{
 "cells": [
  {
   "cell_type": "markdown",
   "metadata": {},
   "source": [
    "### Imports utilizados"
   ]
  },
  {
   "cell_type": "code",
   "execution_count": 27,
   "metadata": {},
   "outputs": [],
   "source": [
    "import requests\n",
    "import time\n",
    "import random\n",
    "import re\n",
    "import pandas as pd\n",
    "import os\n",
    "from tqdm import tqdm as tqdm\n",
    "from bs4 import BeautifulSoup"
   ]
  },
  {
   "cell_type": "markdown",
   "metadata": {},
   "source": [
    "### Parsing da Página Principal da Wikipedia"
   ]
  },
  {
   "cell_type": "code",
   "execution_count": 11,
   "metadata": {},
   "outputs": [],
   "source": [
    "a = requests.get('https://pt.wikipedia.org/wiki/Wikip%C3%A9dia:P%C3%A1gina_principal')\n",
    "soup = BeautifulSoup(a.text, 'html.parser')"
   ]
  },
  {
   "cell_type": "markdown",
   "metadata": {},
   "source": [
    "Para cada link na seção \"main\" da página principal, verifica se o link representa um verbete, caso positivo, adiciona à um Set para evitar duplicatas"
   ]
  },
  {
   "cell_type": "code",
   "execution_count": 12,
   "metadata": {},
   "outputs": [],
   "source": [
    "links = soup.main.find_all('a')\n",
    "all_verbets = set()\n",
    "for link in links:\n",
    "    if link.has_attr('href') and re.match(r'/wiki/.*', link['href']) and not re.match(r'/wiki/.*:.*', link['href']):\n",
    "            all_verbets.add(link['href'])"
   ]
  },
  {
   "cell_type": "markdown",
   "metadata": {},
   "source": [
    "Escolhe aleatoriamente um verbet da conjunto obtido da página principal, e faz o mesmo processamento. O loop é executado até que o conjunto de verbetes tenha 5000 verbetes."
   ]
  },
  {
   "cell_type": "code",
   "execution_count": 13,
   "metadata": {},
   "outputs": [],
   "source": [
    "while(len(all_verbets) < 500):\n",
    "    verbet = random.choice(list(all_verbets))\n",
    "    a = requests.get('https://pt.wikipedia.org' + verbet)\n",
    "    soup = BeautifulSoup(a.text, 'html.parser')\n",
    "    links = soup.find_all('a')\n",
    "    for link in links:\n",
    "        if link.has_attr('href') and re.match(r'/wiki/.*', link['href']) and not re.match(r'/wiki/.*:.*', link['href']):\n",
    "            all_verbets.add(link['href'])\n",
    "    time.sleep(random.randint(1,2))"
   ]
  },
  {
   "cell_type": "markdown",
   "metadata": {},
   "source": [
    "Cria o diretório para armazenar os verbetes, percorre todo o conjunto e salva o HTML"
   ]
  },
  {
   "cell_type": "code",
   "execution_count": 14,
   "metadata": {},
   "outputs": [
    {
     "name": "stderr",
     "output_type": "stream",
     "text": [
      "  0%|          | 2/1063 [00:04<35:24,  2.00s/it]\n"
     ]
    },
    {
     "ename": "KeyboardInterrupt",
     "evalue": "",
     "output_type": "error",
     "traceback": [
      "\u001b[31m---------------------------------------------------------------------------\u001b[39m",
      "\u001b[31mKeyboardInterrupt\u001b[39m                         Traceback (most recent call last)",
      "\u001b[36mCell\u001b[39m\u001b[36m \u001b[39m\u001b[32mIn[14]\u001b[39m\u001b[32m, line 6\u001b[39m\n\u001b[32m      4\u001b[39m soup = BeautifulSoup(a.text, \u001b[33m'\u001b[39m\u001b[33mhtml.parser\u001b[39m\u001b[33m'\u001b[39m)\n\u001b[32m      5\u001b[39m \u001b[38;5;28;01mwith\u001b[39;00m \u001b[38;5;28mopen\u001b[39m(\u001b[33mf\u001b[39m\u001b[33m'\u001b[39m\u001b[33mverbetes/\u001b[39m\u001b[38;5;132;01m{\u001b[39;00mtitulo\u001b[38;5;132;01m}\u001b[39;00m\u001b[33m.html\u001b[39m\u001b[33m'\u001b[39m, \u001b[33m'\u001b[39m\u001b[33mw\u001b[39m\u001b[33m'\u001b[39m) \u001b[38;5;28;01mas\u001b[39;00m f:\n\u001b[32m----> \u001b[39m\u001b[32m6\u001b[39m     f.write(\u001b[43msoup\u001b[49m\u001b[43m.\u001b[49m\u001b[43mprettify\u001b[49m\u001b[43m(\u001b[49m\u001b[43m)\u001b[49m)\n\u001b[32m      7\u001b[39m time.sleep(random.randint(\u001b[32m1\u001b[39m,\u001b[32m2\u001b[39m))\n",
      "\u001b[36mFile \u001b[39m\u001b[32m~/miniconda3/envs/cpa-e/lib/python3.13/site-packages/bs4/element.py:1926\u001b[39m, in \u001b[36mTag.prettify\u001b[39m\u001b[34m(self, encoding, formatter)\u001b[39m\n\u001b[32m   1916\u001b[39m \u001b[38;5;250m\u001b[39m\u001b[33;03m\"\"\"Pretty-print this PageElement as a string.\u001b[39;00m\n\u001b[32m   1917\u001b[39m \n\u001b[32m   1918\u001b[39m \u001b[33;03m:param encoding: The eventual encoding of the string. If this is None,\u001b[39;00m\n\u001b[32m   (...)\u001b[39m\u001b[32m   1923\u001b[39m \u001b[33;03m    (otherwise).\u001b[39;00m\n\u001b[32m   1924\u001b[39m \u001b[33;03m\"\"\"\u001b[39;00m\n\u001b[32m   1925\u001b[39m \u001b[38;5;28;01mif\u001b[39;00m encoding \u001b[38;5;129;01mis\u001b[39;00m \u001b[38;5;28;01mNone\u001b[39;00m:\n\u001b[32m-> \u001b[39m\u001b[32m1926\u001b[39m     \u001b[38;5;28;01mreturn\u001b[39;00m \u001b[38;5;28;43mself\u001b[39;49m\u001b[43m.\u001b[49m\u001b[43mdecode\u001b[49m\u001b[43m(\u001b[49m\u001b[38;5;28;43;01mTrue\u001b[39;49;00m\u001b[43m,\u001b[49m\u001b[43m \u001b[49m\u001b[43mformatter\u001b[49m\u001b[43m=\u001b[49m\u001b[43mformatter\u001b[49m\u001b[43m)\u001b[49m\n\u001b[32m   1927\u001b[39m \u001b[38;5;28;01melse\u001b[39;00m:\n\u001b[32m   1928\u001b[39m     \u001b[38;5;28;01mreturn\u001b[39;00m \u001b[38;5;28mself\u001b[39m.encode(encoding, \u001b[38;5;28;01mTrue\u001b[39;00m, formatter=formatter)\n",
      "\u001b[36mFile \u001b[39m\u001b[32m~/miniconda3/envs/cpa-e/lib/python3.13/site-packages/bs4/__init__.py:805\u001b[39m, in \u001b[36mBeautifulSoup.decode\u001b[39m\u001b[34m(self, pretty_print, eventual_encoding, formatter, iterator)\u001b[39m\n\u001b[32m    803\u001b[39m \u001b[38;5;28;01melse\u001b[39;00m:\n\u001b[32m    804\u001b[39m     indent_level = \u001b[32m0\u001b[39m\n\u001b[32m--> \u001b[39m\u001b[32m805\u001b[39m \u001b[38;5;28;01mreturn\u001b[39;00m prefix + \u001b[38;5;28;43msuper\u001b[39;49m\u001b[43m(\u001b[49m\u001b[43mBeautifulSoup\u001b[49m\u001b[43m,\u001b[49m\u001b[43m \u001b[49m\u001b[38;5;28;43mself\u001b[39;49m\u001b[43m)\u001b[49m\u001b[43m.\u001b[49m\u001b[43mdecode\u001b[49m\u001b[43m(\u001b[49m\n\u001b[32m    806\u001b[39m \u001b[43m    \u001b[49m\u001b[43mindent_level\u001b[49m\u001b[43m,\u001b[49m\u001b[43m \u001b[49m\u001b[43meventual_encoding\u001b[49m\u001b[43m,\u001b[49m\u001b[43m \u001b[49m\u001b[43mformatter\u001b[49m\u001b[43m,\u001b[49m\u001b[43m \u001b[49m\u001b[43miterator\u001b[49m\u001b[43m)\u001b[49m\n",
      "\u001b[36mFile \u001b[39m\u001b[32m~/miniconda3/envs/cpa-e/lib/python3.13/site-packages/bs4/element.py:1723\u001b[39m, in \u001b[36mTag.decode\u001b[39m\u001b[34m(self, indent_level, eventual_encoding, formatter, iterator)\u001b[39m\n\u001b[32m   1721\u001b[39m         indent_level -= \u001b[32m1\u001b[39m\n\u001b[32m   1722\u001b[39m \u001b[38;5;28;01melse\u001b[39;00m:\n\u001b[32m-> \u001b[39m\u001b[32m1723\u001b[39m     piece = \u001b[43melement\u001b[49m\u001b[43m.\u001b[49m\u001b[43moutput_ready\u001b[49m\u001b[43m(\u001b[49m\u001b[43mformatter\u001b[49m\u001b[43m)\u001b[49m\n\u001b[32m   1725\u001b[39m \u001b[38;5;66;03m# Now we need to apply the 'prettiness' -- extra\u001b[39;00m\n\u001b[32m   1726\u001b[39m \u001b[38;5;66;03m# whitespace before and/or after this tag. This can get\u001b[39;00m\n\u001b[32m   1727\u001b[39m \u001b[38;5;66;03m# complicated because certain tags, like <pre> and\u001b[39;00m\n\u001b[32m   (...)\u001b[39m\u001b[32m   1732\u001b[39m \u001b[38;5;66;03m# after an element when string literal mode is off, and to\u001b[39;00m\n\u001b[32m   1733\u001b[39m \u001b[38;5;66;03m# leave things as they are when string literal mode is on.\u001b[39;00m\n\u001b[32m   1734\u001b[39m \u001b[38;5;28;01mif\u001b[39;00m string_literal_tag:\n",
      "\u001b[36mFile \u001b[39m\u001b[32m~/miniconda3/envs/cpa-e/lib/python3.13/site-packages/bs4/element.py:993\u001b[39m, in \u001b[36mNavigableString.output_ready\u001b[39m\u001b[34m(self, formatter)\u001b[39m\n\u001b[32m    988\u001b[39m \u001b[38;5;28;01mdef\u001b[39;00m\u001b[38;5;250m \u001b[39m\u001b[34moutput_ready\u001b[39m(\u001b[38;5;28mself\u001b[39m, formatter=\u001b[33m\"\u001b[39m\u001b[33mminimal\u001b[39m\u001b[33m\"\u001b[39m):\n\u001b[32m    989\u001b[39m \u001b[38;5;250m    \u001b[39m\u001b[33;03m\"\"\"Run the string through the provided formatter.\u001b[39;00m\n\u001b[32m    990\u001b[39m \n\u001b[32m    991\u001b[39m \u001b[33;03m    :param formatter: A Formatter object, or a string naming one of the standard formatters.\u001b[39;00m\n\u001b[32m    992\u001b[39m \u001b[33;03m    \"\"\"\u001b[39;00m\n\u001b[32m--> \u001b[39m\u001b[32m993\u001b[39m     output = \u001b[38;5;28;43mself\u001b[39;49m\u001b[43m.\u001b[49m\u001b[43mformat_string\u001b[49m\u001b[43m(\u001b[49m\u001b[38;5;28;43mself\u001b[39;49m\u001b[43m,\u001b[49m\u001b[43m \u001b[49m\u001b[43mformatter\u001b[49m\u001b[43m)\u001b[49m\n\u001b[32m    994\u001b[39m     \u001b[38;5;28;01mreturn\u001b[39;00m \u001b[38;5;28mself\u001b[39m.PREFIX + output + \u001b[38;5;28mself\u001b[39m.SUFFIX\n",
      "\u001b[36mFile \u001b[39m\u001b[32m~/miniconda3/envs/cpa-e/lib/python3.13/site-packages/bs4/element.py:207\u001b[39m, in \u001b[36mPageElement.format_string\u001b[39m\u001b[34m(self, s, formatter)\u001b[39m\n\u001b[32m    205\u001b[39m \u001b[38;5;28;01mif\u001b[39;00m \u001b[38;5;129;01mnot\u001b[39;00m \u001b[38;5;28misinstance\u001b[39m(formatter, Formatter):\n\u001b[32m    206\u001b[39m     formatter = \u001b[38;5;28mself\u001b[39m.formatter_for_name(formatter)\n\u001b[32m--> \u001b[39m\u001b[32m207\u001b[39m output = \u001b[43mformatter\u001b[49m\u001b[43m.\u001b[49m\u001b[43msubstitute\u001b[49m\u001b[43m(\u001b[49m\u001b[43ms\u001b[49m\u001b[43m)\u001b[49m\n\u001b[32m    208\u001b[39m \u001b[38;5;28;01mreturn\u001b[39;00m output\n",
      "\u001b[36mFile \u001b[39m\u001b[32m~/miniconda3/envs/cpa-e/lib/python3.13/site-packages/bs4/formatter.py:119\u001b[39m, in \u001b[36mFormatter.substitute\u001b[39m\u001b[34m(self, ns)\u001b[39m\n\u001b[32m    117\u001b[39m     \u001b[38;5;28;01mreturn\u001b[39;00m ns\n\u001b[32m    118\u001b[39m \u001b[38;5;66;03m# Substitute.\u001b[39;00m\n\u001b[32m--> \u001b[39m\u001b[32m119\u001b[39m \u001b[38;5;28;01mreturn\u001b[39;00m \u001b[38;5;28;43mself\u001b[39;49m\u001b[43m.\u001b[49m\u001b[43mentity_substitution\u001b[49m\u001b[43m(\u001b[49m\u001b[43mns\u001b[49m\u001b[43m)\u001b[49m\n",
      "\u001b[36mFile \u001b[39m\u001b[32m~/miniconda3/envs/cpa-e/lib/python3.13/site-packages/bs4/dammit.py:270\u001b[39m, in \u001b[36mEntitySubstitution.substitute_xml\u001b[39m\u001b[34m(cls, value, make_quoted_attribute)\u001b[39m\n\u001b[32m    258\u001b[39m \u001b[38;5;250m\u001b[39m\u001b[33;03m\"\"\"Substitute XML entities for special XML characters.\u001b[39;00m\n\u001b[32m    259\u001b[39m \n\u001b[32m    260\u001b[39m \u001b[33;03m:param value: A string to be substituted. The less-than sign\u001b[39;00m\n\u001b[32m   (...)\u001b[39m\u001b[32m    267\u001b[39m \u001b[33;03m quoted, as befits an attribute value.\u001b[39;00m\n\u001b[32m    268\u001b[39m \u001b[33;03m\"\"\"\u001b[39;00m\n\u001b[32m    269\u001b[39m \u001b[38;5;66;03m# Escape angle brackets and ampersands.\u001b[39;00m\n\u001b[32m--> \u001b[39m\u001b[32m270\u001b[39m value = \u001b[38;5;28;43mcls\u001b[39;49m\u001b[43m.\u001b[49m\u001b[43mAMPERSAND_OR_BRACKET\u001b[49m\u001b[43m.\u001b[49m\u001b[43msub\u001b[49m\u001b[43m(\u001b[49m\n\u001b[32m    271\u001b[39m \u001b[43m    \u001b[49m\u001b[38;5;28;43mcls\u001b[39;49m\u001b[43m.\u001b[49m\u001b[43m_substitute_xml_entity\u001b[49m\u001b[43m,\u001b[49m\u001b[43m \u001b[49m\u001b[43mvalue\u001b[49m\u001b[43m)\u001b[49m\n\u001b[32m    273\u001b[39m \u001b[38;5;28;01mif\u001b[39;00m make_quoted_attribute:\n\u001b[32m    274\u001b[39m     value = \u001b[38;5;28mcls\u001b[39m.quoted_attribute_value(value)\n",
      "\u001b[31mKeyboardInterrupt\u001b[39m: "
     ]
    }
   ],
   "source": [
    "os.makedirs('verbetes', exist_ok=True)\n",
    "for verbet in tqdm(all_verbets):\n",
    "    titulo = verbet.split('/')[-1]\n",
    "    soup = BeautifulSoup(a.text, 'html.parser')\n",
    "    with open(f'verbetes/{titulo}.html', 'w') as f:\n",
    "        f.write(soup.prettify())\n",
    "    time.sleep(random.randint(1,2))"
   ]
  },
  {
   "cell_type": "code",
   "execution_count": 31,
   "metadata": {},
   "outputs": [
    {
     "name": "stdout",
     "output_type": "stream",
     "text": [
      "{'Nome completo': 'Alan Mathison Turing', 'Conhecido(a) por': ['Criptoanálise da Máquina Enigma', 'Problema da parada', 'Máquina de Turing', 'Teste de Turing', 'Máquinas desorganizadas', 'Modelo Turing', 'Redução de Turing', 'Base química da morfogênese'], 'Nascimento': '23 de junho de 1912Maida Vale, Londres', 'Morte': '7 de junho de 1954\\xa0(41\\xa0anos)Wilmslow, Cheshire', 'Causa da morte': 'Suicídio por ingestão de cianeto', 'Nacionalidade': 'britânico', 'Educação': 'Sherborne School', 'Alma mater': ['Universidade de Cambridge (BA, MA)', 'Universidade de Princeton (PhD)'], 'Prêmios': 'Prêmio Smith (1936)', 'Religião': 'Ateísmo', 'Orientador(es)(as)': 'Alonzo Church', 'Orientado(a)(s)': ['Robin Gandy', 'Beatrice Worsley'], 'Instituições': ['Universidade de Manchester', 'Escola Governamental de Código e Cifra', 'Laboratório Nacional de Física'], 'Campo(s)': ['Lógica', 'matemática', 'criptoanálise', 'ciência da computação', 'biologia matemática e teórica'], 'Tese': 'Sistemas de Lógica Baseada em Ordinais (1938)', 'Teorema de Cantor\\nTeorema de Church\\nTese de Church\\nConsistência\\nMétodo efetivo\\nFundamentos da matemática\\nTeorema da completude de Gödel\\nTeoremas da incompletude de Gödel\\nSolidez\\nCompletude\\nDecidabilidade\\nInterpretação\\nTeorema de Löwenheim–Skolem\\nMetateorema\\nSatisfabilidade\\nIndependência\\nDistinção Sin-signo e Legi-signo\\nDistinção uso–menção': ['Teorema de Cantor', 'Teorema de Church', 'Tese de Church', 'Consistência', 'Método efetivo', 'Fundamentos da matemática', 'Teorema da completude de Gödel', 'Teoremas da incompletude de Gödel', 'Solidez', 'Completude', 'Decidabilidade', 'Interpretação', 'Teorema de Löwenheim–Skolem', 'Metateorema', 'Satisfabilidade', 'Independência', 'Distinção Sin-signo e Legi-signo', 'Distinção uso–menção'], 'Alfarábi\\nAnderson\\nAlgazali\\nFacradim Arrazi\\nAristóteles\\nAverróis\\nAvicena\\nBain\\nBarwise\\nBernays\\nBoole\\nBoolos\\nCantor\\nCarnap\\nChurch\\nCrísipo de Solos\\nCurry\\nDharmakirti\\nDignāga\\nDe Morgan\\nFrege\\nGeach\\nGentzen\\nGotama\\nKanada\\nGödel\\nHilbert\\nIbn al-Nafis\\nAbzeme\\nIbn Taymiyyah\\nKleene\\nKripke\\nLeibniz\\nLöwenheim\\nMozi\\nNagarjuna\\nPāṇini\\nPeano\\nPeirce\\nPutnam\\nQuine\\nRussell\\nSchröder\\nScotus\\nSkolem\\nSmullyan\\nSuhrawardi\\nTarski\\nTuring\\nWhitehead\\nWilliam of Ockham\\nWittgenstein\\nZadeh\\nZermelo\\nF. C. S. Schiller': ['Alfarábi', 'Anderson', 'Algazali', 'Facradim Arrazi', 'Aristóteles', 'Averróis', 'Avicena', 'Bain', 'Barwise', 'Bernays', 'Boole', 'Boolos', 'Cantor', 'Carnap', 'Church', 'Crísipo de Solos', 'Curry', 'Dharmakirti', 'Dignāga', 'De Morgan', 'Frege', 'Geach', 'Gentzen', 'Gotama', 'Kanada', 'Gödel', 'Hilbert', 'Ibn al-Nafis', 'Abzeme', 'Ibn Taymiyyah', 'Kleene', 'Kripke', 'Leibniz', 'Löwenheim', 'Mozi', 'Nagarjuna', 'Pāṇini', 'Peano', 'Peirce', 'Putnam', 'Quine', 'Russell', 'Schröder', 'Scotus', 'Skolem', 'Smullyan', 'Suhrawardi', 'Tarski', 'Turing', 'Whitehead', 'William of Ockham', 'Wittgenstein', 'Zadeh', 'Zermelo', 'F. C. S. Schiller']}\n",
      "          Nome completo                                   Conhecido(a) por  \\\n",
      "0  Alan Mathison Turing  [Criptoanálise da Máquina Enigma, Problema da ...   \n",
      "\n",
      "                               Nascimento  \\\n",
      "0  23 de junho de 1912Maida Vale, Londres   \n",
      "\n",
      "                                            Morte  \\\n",
      "0  7 de junho de 1954 (41 anos)Wilmslow, Cheshire   \n",
      "\n",
      "                     Causa da morte Nacionalidade          Educação  \\\n",
      "0  Suicídio por ingestão de cianeto     britânico  Sherborne School   \n",
      "\n",
      "                                          Alma mater              Prêmios  \\\n",
      "0  [Universidade de Cambridge (BA, MA), Universid...  Prêmio Smith (1936)   \n",
      "\n",
      "  Religião Orientador(es)(as)                  Orientado(a)(s)  \\\n",
      "0  Ateísmo      Alonzo Church  [Robin Gandy, Beatrice Worsley]   \n",
      "\n",
      "                                        Instituições  \\\n",
      "0  [Universidade de Manchester, Escola Governamen...   \n",
      "\n",
      "                                            Campo(s)  \\\n",
      "0  [Lógica, matemática, criptoanálise, ciência da...   \n",
      "\n",
      "                                            Tese  \\\n",
      "0  Sistemas de Lógica Baseada em Ordinais (1938)   \n",
      "\n",
      "  Teorema de Cantor\\nTeorema de Church\\nTese de Church\\nConsistência\\nMétodo efetivo\\nFundamentos da matemática\\nTeorema da completude de Gödel\\nTeoremas da incompletude de Gödel\\nSolidez\\nCompletude\\nDecidabilidade\\nInterpretação\\nTeorema de Löwenheim–Skolem\\nMetateorema\\nSatisfabilidade\\nIndependência\\nDistinção Sin-signo e Legi-signo\\nDistinção uso–menção  \\\n",
      "0  [Teorema de Cantor, Teorema de Church, Tese de...                                                                                                                                                                                                                                                                                                                       \n",
      "\n",
      "  Alfarábi\\nAnderson\\nAlgazali\\nFacradim Arrazi\\nAristóteles\\nAverróis\\nAvicena\\nBain\\nBarwise\\nBernays\\nBoole\\nBoolos\\nCantor\\nCarnap\\nChurch\\nCrísipo de Solos\\nCurry\\nDharmakirti\\nDignāga\\nDe Morgan\\nFrege\\nGeach\\nGentzen\\nGotama\\nKanada\\nGödel\\nHilbert\\nIbn al-Nafis\\nAbzeme\\nIbn Taymiyyah\\nKleene\\nKripke\\nLeibniz\\nLöwenheim\\nMozi\\nNagarjuna\\nPāṇini\\nPeano\\nPeirce\\nPutnam\\nQuine\\nRussell\\nSchröder\\nScotus\\nSkolem\\nSmullyan\\nSuhrawardi\\nTarski\\nTuring\\nWhitehead\\nWilliam of Ockham\\nWittgenstein\\nZadeh\\nZermelo\\nF. C. S. Schiller  \n",
      "0  [Alfarábi, Anderson, Algazali, Facradim Arrazi...                                                                                                                                                                                                                                                                                                                                                                                                                                                                                                     \n"
     ]
    }
   ],
   "source": [
    "e = requests.get(\"https://pt.wikipedia.org/wiki/Alan_Turing\")\n",
    "soup = BeautifulSoup(e.text, 'html.parser') \n",
    "tables = soup.findAll('table')\n",
    "infobox = \"\"\n",
    "for table in tables:\n",
    "    if \"infobox\" in table[\"class\"] or \"infobox_v2\" in table[\"class\"]:\n",
    "        infobox = table\n",
    "        break\n",
    "\n",
    "chava = {}\n",
    "\n",
    "titulo = infobox.findAll(\"th\")[0]\n",
    "for tr in soup.findAll('tr'):\n",
    "    if len(tr.findAll(\"td\")) == 2:\n",
    "        messi = tr.findAll(\"td\")\n",
    "        chava[messi[0].text.strip()] = [li.text.strip() for li in messi[1].findAll(\"li\")] if messi[1].findAll(\"li\") else messi[1].text.strip()\n",
    "        # chava[messi[0]] = messi[1].text\n",
    "        # print(messi[0].text, messi[1].text)\n",
    "        \n",
    "print(chava)\n",
    "chava_df = pd.DataFrame.from_dict(chava, orient='index')\n",
    "chava_df.transpose().to_json('chava_transpose.json', orient='index')\n",
    "print(chava_df.transpose())\n",
    "\n",
    "        "
   ]
  }
 ],
 "metadata": {
  "kernelspec": {
   "display_name": "ambiente-cpa",
   "language": "python",
   "name": "python3"
  },
  "language_info": {
   "codemirror_mode": {
    "name": "ipython",
    "version": 3
   },
   "file_extension": ".py",
   "mimetype": "text/x-python",
   "name": "python",
   "nbconvert_exporter": "python",
   "pygments_lexer": "ipython3",
   "version": "3.12.9"
  }
 },
 "nbformat": 4,
 "nbformat_minor": 2
}
